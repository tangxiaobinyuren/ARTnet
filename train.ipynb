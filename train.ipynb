{
 "cells": [
  {
   "cell_type": "code",
   "execution_count": 1,
   "metadata": {},
   "outputs": [],
   "source": [
    "import tensorflow as tf\n",
    "from tensorflow import keras\n",
    "from tensorflow.keras.layers import *\n",
    "from tensorflow.keras.models import Model\n",
    "from tensorflow.keras.layers import Conv2D, Input, MaxPooling2D, Dropout, concatenate, UpSampling2D\n",
    "import matplotlib.pyplot as plt\n",
    "from tensorflow.keras import regularizers\n",
    "import numpy as np\n",
    "import cv2\n",
    "import os,sys \n",
    "from glob import glob "
   ]
  },
  {
   "cell_type": "code",
   "execution_count": 2,
   "metadata": {},
   "outputs": [],
   "source": [
    "sys.path.append(os.getcwd())\n",
    "from data import DataLoader"
   ]
  },
  {
   "cell_type": "code",
   "execution_count": 3,
   "metadata": {},
   "outputs": [],
   "source": [
    "data_dir = 'your_data_path'\n",
    "train_dir = os.path.join(data_dir,'train')   # your train dataset\n",
    "test_dir = os.path.join(data_dir,'test')     # your test dataset\n",
    "txt_path = os.path.join(data_dir,'data.txt') # your label"
   ]
  },
  {
   "cell_type": "code",
   "execution_count": 4,
   "metadata": {},
   "outputs": [
    {
     "data": {
      "text/plain": [
       "'f=open(\"../det0422G.txt\",\"a+\")\\nfor(x,y) in test_data:\\n    f.write (str(y)+\\'\\n\\')\\nf.close()'"
      ]
     },
     "execution_count": 4,
     "metadata": {},
     "output_type": "execute_result"
    }
   ],
   "source": [
    "epochs = 80\n",
    "batch_size = 2\n",
    "img_fmt = 'png'\n",
    "train_loader = DataLoader(\n",
    "    train_dir,\n",
    "    txt_path,\n",
    "    epochs=epochs,\n",
    "    batch_size = batch_size,\n",
    "    shuffle_size=batch_size*16,\n",
    "    img_format=img_fmt\n",
    ")\n",
    "test_loader = DataLoader(\n",
    "    test_dir,\n",
    "    txt_path,\n",
    "    img_format=img_fmt,\n",
    ")\n",
    "train_data = train_loader.get_dataset().as_numpy_iterator()\n",
    "test_data = test_loader.get_one_epoch()\n",
    "img_shape = train_loader.get_img_shape()\n",
    "f=open(\"../det0422G.txt\",\"a+\")\n",
    "for(x,y) in test_data:\n",
    "    f.write (str(y)+'\\n')\n",
    "f.close()"
   ]
  },
  {
   "cell_type": "code",
   "execution_count": 5,
   "metadata": {
    "scrolled": false
   },
   "outputs": [
    {
     "name": "stdout",
     "output_type": "stream",
     "text": [
      "Model: \"model\"\n",
      "__________________________________________________________________________________________________\n",
      "Layer (type)                    Output Shape         Param #     Connected to                     \n",
      "==================================================================================================\n",
      "input_2 (InputLayer)            [(None, 512, 512, 3) 0                                            \n",
      "__________________________________________________________________________________________________\n",
      "conv2d (Conv2D)                 (None, 512, 512, 64) 1792        input_2[0][0]                    \n",
      "__________________________________________________________________________________________________\n",
      "conv2d_1 (Conv2D)               (None, 512, 512, 64) 36928       conv2d[0][0]                     \n",
      "__________________________________________________________________________________________________\n",
      "max_pooling2d (MaxPooling2D)    (None, 256, 256, 64) 0           conv2d_1[0][0]                   \n",
      "__________________________________________________________________________________________________\n",
      "conv2d_2 (Conv2D)               (None, 256, 256, 128 73856       max_pooling2d[0][0]              \n",
      "__________________________________________________________________________________________________\n",
      "conv2d_3 (Conv2D)               (None, 256, 256, 128 147584      conv2d_2[0][0]                   \n",
      "__________________________________________________________________________________________________\n",
      "max_pooling2d_1 (MaxPooling2D)  (None, 128, 128, 128 0           conv2d_3[0][0]                   \n",
      "__________________________________________________________________________________________________\n",
      "conv2d_4 (Conv2D)               (None, 128, 128, 256 295168      max_pooling2d_1[0][0]            \n",
      "__________________________________________________________________________________________________\n",
      "conv2d_5 (Conv2D)               (None, 128, 128, 256 590080      conv2d_4[0][0]                   \n",
      "__________________________________________________________________________________________________\n",
      "max_pooling2d_2 (MaxPooling2D)  (None, 64, 64, 256)  0           conv2d_5[0][0]                   \n",
      "__________________________________________________________________________________________________\n",
      "conv2d_6 (Conv2D)               (None, 64, 64, 512)  1180160     max_pooling2d_2[0][0]            \n",
      "__________________________________________________________________________________________________\n",
      "conv2d_7 (Conv2D)               (None, 64, 64, 512)  2359808     conv2d_6[0][0]                   \n",
      "__________________________________________________________________________________________________\n",
      "dropout (Dropout)               (None, 64, 64, 512)  0           conv2d_7[0][0]                   \n",
      "__________________________________________________________________________________________________\n",
      "max_pooling2d_3 (MaxPooling2D)  (None, 32, 32, 512)  0           dropout[0][0]                    \n",
      "__________________________________________________________________________________________________\n",
      "conv2d_8 (Conv2D)               (None, 32, 32, 1024) 4719616     max_pooling2d_3[0][0]            \n",
      "__________________________________________________________________________________________________\n",
      "conv2d_9 (Conv2D)               (None, 32, 32, 1024) 9438208     conv2d_8[0][0]                   \n",
      "__________________________________________________________________________________________________\n",
      "dropout_1 (Dropout)             (None, 32, 32, 1024) 0           conv2d_9[0][0]                   \n",
      "__________________________________________________________________________________________________\n",
      "up_sampling2d (UpSampling2D)    (None, 64, 64, 1024) 0           dropout_1[0][0]                  \n",
      "__________________________________________________________________________________________________\n",
      "conv2d_10 (Conv2D)              (None, 64, 64, 512)  2097664     up_sampling2d[0][0]              \n",
      "__________________________________________________________________________________________________\n",
      "concatenate (Concatenate)       (None, 64, 64, 1024) 0           dropout[0][0]                    \n",
      "                                                                 conv2d_10[0][0]                  \n",
      "__________________________________________________________________________________________________\n",
      "conv2d_11 (Conv2D)              (None, 64, 64, 512)  4719104     concatenate[0][0]                \n",
      "__________________________________________________________________________________________________\n",
      "conv2d_12 (Conv2D)              (None, 64, 64, 512)  2359808     conv2d_11[0][0]                  \n",
      "__________________________________________________________________________________________________\n",
      "up_sampling2d_1 (UpSampling2D)  (None, 128, 128, 512 0           conv2d_12[0][0]                  \n",
      "__________________________________________________________________________________________________\n",
      "conv2d_13 (Conv2D)              (None, 128, 128, 256 524544      up_sampling2d_1[0][0]            \n",
      "__________________________________________________________________________________________________\n",
      "concatenate_1 (Concatenate)     (None, 128, 128, 512 0           conv2d_5[0][0]                   \n",
      "                                                                 conv2d_13[0][0]                  \n",
      "__________________________________________________________________________________________________\n",
      "conv2d_14 (Conv2D)              (None, 128, 128, 256 1179904     concatenate_1[0][0]              \n",
      "__________________________________________________________________________________________________\n",
      "conv2d_15 (Conv2D)              (None, 128, 128, 256 590080      conv2d_14[0][0]                  \n",
      "__________________________________________________________________________________________________\n",
      "up_sampling2d_2 (UpSampling2D)  (None, 256, 256, 256 0           conv2d_15[0][0]                  \n",
      "__________________________________________________________________________________________________\n",
      "conv2d_16 (Conv2D)              (None, 256, 256, 128 131200      up_sampling2d_2[0][0]            \n",
      "__________________________________________________________________________________________________\n",
      "concatenate_2 (Concatenate)     (None, 256, 256, 256 0           conv2d_3[0][0]                   \n",
      "                                                                 conv2d_16[0][0]                  \n",
      "__________________________________________________________________________________________________\n",
      "conv2d_17 (Conv2D)              (None, 256, 256, 128 295040      concatenate_2[0][0]              \n",
      "__________________________________________________________________________________________________\n",
      "conv2d_18 (Conv2D)              (None, 256, 256, 128 147584      conv2d_17[0][0]                  \n",
      "__________________________________________________________________________________________________\n",
      "up_sampling2d_3 (UpSampling2D)  (None, 512, 512, 128 0           conv2d_18[0][0]                  \n",
      "__________________________________________________________________________________________________\n",
      "conv2d_19 (Conv2D)              (None, 512, 512, 64) 32832       up_sampling2d_3[0][0]            \n",
      "__________________________________________________________________________________________________\n",
      "concatenate_3 (Concatenate)     (None, 512, 512, 128 0           conv2d_1[0][0]                   \n",
      "                                                                 conv2d_19[0][0]                  \n",
      "__________________________________________________________________________________________________\n",
      "conv2d_20 (Conv2D)              (None, 512, 512, 64) 73792       concatenate_3[0][0]              \n",
      "__________________________________________________________________________________________________\n",
      "conv2d_21 (Conv2D)              (None, 512, 512, 64) 36928       conv2d_20[0][0]                  \n",
      "__________________________________________________________________________________________________\n",
      "conv2d_22 (Conv2D)              (None, 512, 512, 3)  1731        conv2d_21[0][0]                  \n",
      "__________________________________________________________________________________________________\n",
      "densenet201 (Model)             (None, 16, 16, 1920) 18321984    conv2d_22[0][0]                  \n",
      "__________________________________________________________________________________________________\n",
      "batch_normalization (BatchNorma (None, 16, 16, 1920) 7680        densenet201[1][0]                \n",
      "__________________________________________________________________________________________________\n",
      "max_pooling2d_4 (MaxPooling2D)  (None, 7, 7, 1920)   0           batch_normalization[0][0]        \n",
      "__________________________________________________________________________________________________\n",
      "flatten (Flatten)               (None, 94080)        0           max_pooling2d_4[0][0]            \n",
      "__________________________________________________________________________________________________\n",
      "dropout_2 (Dropout)             (None, 94080)        0           flatten[0][0]                    \n",
      "__________________________________________________________________________________________________\n",
      "dense (Dense)                   (None, 2048)         192677888   dropout_2[0][0]                  \n",
      "__________________________________________________________________________________________________\n",
      "leaky_re_lu (LeakyReLU)         (None, 2048)         0           dense[0][0]                      \n",
      "__________________________________________________________________________________________________\n",
      "dense_1 (Dense)                 (None, 4)            8196        leaky_re_lu[0][0]                \n",
      "==================================================================================================\n",
      "Total params: 242,049,159\n",
      "Trainable params: 241,816,263\n",
      "Non-trainable params: 232,896\n",
      "__________________________________________________________________________________________________\n"
     ]
    }
   ],
   "source": [
    "num_output = 4 \n",
    "dense_model = keras.applications.densenet.DenseNet201(\n",
    "    include_top = False,\n",
    "    weights = 'imagenet',\n",
    "    input_shape = img_shape\n",
    ")\n",
    "inputs = keras.Input(shape=img_shape)\n",
    "#inputs = Input(shape=[img_shape, img_shape, 1])\n",
    "conv1 = Conv2D(64, 3, activation = 'relu', padding = 'same')(inputs)\n",
    "conv1 = Conv2D(64, 3, activation = 'relu', padding = 'same')(conv1)\n",
    "pool1 = MaxPooling2D(pool_size=(2, 2))(conv1)\n",
    "conv2 = Conv2D(128, 3, activation = 'relu', padding = 'same')(pool1)\n",
    "conv2 = Conv2D(128, 3, activation = 'relu', padding = 'same')(conv2)\n",
    "pool2 = MaxPooling2D(pool_size=(2, 2))(conv2)\n",
    "conv3 = Conv2D(256, 3, activation = 'relu', padding = 'same')(pool2)\n",
    "conv3 = Conv2D(256, 3, activation = 'relu', padding = 'same')(conv3)\n",
    "pool3 = MaxPooling2D(pool_size=(2, 2))(conv3)\n",
    "conv4 = Conv2D(512, 3, activation = 'relu', padding = 'same')(pool3)\n",
    "conv4 = Conv2D(512, 3, activation = 'relu', padding = 'same')(conv4)\n",
    "drop4 = Dropout(0.01)(conv4)\n",
    "pool4 = MaxPooling2D(pool_size=(2, 2))(drop4)\n",
    "conv5 = Conv2D(1024, 3, activation = 'relu', padding = 'same')(pool4)\n",
    "conv5 = Conv2D(1024, 3, activation = 'relu', padding = 'same')(conv5)\n",
    "drop5 = Dropout(0.01)(conv5)\n",
    "up6 = Conv2D(512, 2, activation = 'relu', padding = 'same')(UpSampling2D(size = (2,2))(drop5))\n",
    "merge6 = concatenate([drop4,up6], axis = 3)\n",
    "conv6 = Conv2D(512, 3, activation = 'relu', padding = 'same')(merge6)\n",
    "conv6 = Conv2D(512, 3, activation = 'relu', padding = 'same')(conv6)\n",
    "up7 = Conv2D(256, 2, activation = 'relu', padding = 'same')(UpSampling2D(size = (2,2))(conv6))\n",
    "merge7 = concatenate([conv3,up7], axis = 3)\n",
    "conv7 = Conv2D(256, 3, activation = 'relu', padding = 'same')(merge7)\n",
    "conv7 = Conv2D(256, 3, activation = 'relu', padding = 'same')(conv7)\n",
    "up8 = Conv2D(128, 2, activation = 'relu', padding = 'same')(UpSampling2D(size = (2,2))(conv7))\n",
    "merge8 = concatenate([conv2,up8], axis = 3)\n",
    "conv8 = Conv2D(128, 3, activation = 'relu', padding = 'same')(merge8)\n",
    "conv8 = Conv2D(128, 3, activation = 'relu', padding = 'same')(conv8)\n",
    "up9 = Conv2D(64, 2, activation = 'relu', padding = 'same')(UpSampling2D(size = (2,2))(conv8))\n",
    "merge9 = concatenate([conv1,up9], axis = 3)\n",
    "conv9 = Conv2D(64, 3, activation = 'relu', padding = 'same')(merge9)\n",
    "conv9 = Conv2D(64, 3, activation = 'relu', padding = 'same')(conv9)\n",
    "conv9 = Conv2D(3, 3, activation = 'relu', padding = 'same')(conv9)\n",
    "\n",
    "x = dense_model(conv9) # base_model\n",
    "x = BatchNormalization()(x)\n",
    "x = MaxPool2D(3, 2, padding='valid')(x)\n",
    "x = Flatten()(x)\n",
    "x = Dropout(0.08)(x)\n",
    "x = Dense(2048)(x)\n",
    "x = keras.layers.LeakyReLU(alpha=0.005)(x)\n",
    "outputs = Dense(num_output)(x)\n",
    "model = keras.Model(inputs=inputs,outputs=outputs)\n",
    "model.summary()"
   ]
  },
  {
   "cell_type": "code",
   "execution_count": 6,
   "metadata": {},
   "outputs": [],
   "source": [
    "def acc_reg(y_true, y_pred): # Customize the accuracy function\n",
    "    mask = tf.less(tf.abs(y_true-y_pred), 0.005)\n",
    "    num_correct = tf.reduce_sum(tf.cast(mask,tf.int32))\n",
    "    num_true = tf.reduce_sum(tf.ones_like(y_true))\n",
    "    acc = tf.cast(num_correct,tf.float32)/(num_true+1e-10)\n",
    "    return acc"
   ]
  },
  {
   "cell_type": "code",
   "execution_count": 7,
   "metadata": {},
   "outputs": [],
   "source": [
    "model.compile(\n",
    "    optimizer=keras.optimizers.Adam(1e-7), #1e-5 Init   #5e-5 sec.  #from 1e-6\n",
    "\n",
    "    loss=tf.keras.losses.Huber(delta=0.0001), #from 0.01 \n",
    "\n",
    "    metrics= [acc_reg],\n",
    ")"
   ]
  },
  {
   "cell_type": "code",
   "execution_count": 8,
   "metadata": {
    "scrolled": false
   },
   "outputs": [
    {
     "name": "stdout",
     "output_type": "stream",
     "text": [
      "weights loaded!\n"
     ]
    },
    {
     "data": {
      "text/plain": [
       "\"history = model.fit(\\n    train_data,\\n    steps_per_epoch=train_loader.get_steps_per_epoch(),\\n    epochs=epochs,\\n    validation_data=test_data,\\n    validation_steps=test_loader.get_steps_per_epoch(),\\n    # 在训练过程（model.fit）添加回调函数,很重要！\\n    callbacks=[\\n        keras.callbacks.TensorBoard(logdir),\\n        keras.callbacks.ModelCheckpoint(os.path.join(logdir,'model.h5'),save_best_only=True), # 注意不要直接用logdir\\n        keras.callbacks.ReduceLROnPlateau(monitor='val_loss', factor=0.5,patience=5, min_lr=1e-10),\\n        keras.callbacks.EarlyStopping(patience=5,min_delta=1e-12)\\n    ]\\n)\""
      ]
     },
     "execution_count": 8,
     "metadata": {},
     "output_type": "execute_result"
    }
   ],
   "source": [
    "logdir = \"your_save_path\" \n",
    "if os.path.exists(os.path.join(logdir,'model.h5')):\n",
    "    print(\"weights loaded!\")\n",
    "    model.load_weights(os.path.join(logdir,'model.h5'),by_name=True)\n",
    "    model.trainable = True\n",
    "    history = model.fit(\n",
    "    train_data,\n",
    "    steps_per_epoch=train_loader.get_steps_per_epoch(),\n",
    "    epochs=epochs,\n",
    "    validation_data=test_data,\n",
    "    validation_steps=test_loader.get_steps_per_epoch(),\n",
    "    callbacks=[\n",
    "        keras.callbacks.TensorBoard(logdir),\n",
    "        keras.callbacks.ModelCheckpoint(os.path.join(logdir,'model.h5'),save_best_only=True), # 注意不要直接用logdir\n",
    "        keras.callbacks.ReduceLROnPlateau(monitor='val_loss', factor=0.5,patience=5, min_lr=1e-10),\n",
    "        keras.callbacks.EarlyStopping(patience=5,min_delta=1e-12)\n",
    "    ]\n",
    ")"
   ]
  },
  {
   "cell_type": "code",
   "execution_count": 9,
   "metadata": {},
   "outputs": [
    {
     "name": "stdout",
     "output_type": "stream",
     "text": [
      "   2020/Unknown - 140s 69ms/step - loss: 5.4433e-07 - acc_reg: 0.5321"
     ]
    },
    {
     "data": {
      "text/plain": [
       "[5.443318973192109e-07, 0.5320545]"
      ]
     },
     "execution_count": 9,
     "metadata": {},
     "output_type": "execute_result"
    }
   ],
   "source": [
    "model.evaluate(test_data)"
   ]
  },
  {
   "cell_type": "code",
   "execution_count": 10,
   "metadata": {},
   "outputs": [
    {
     "name": "stdout",
     "output_type": "stream",
     "text": [
      "[[-1.857291  -1.824715   1.6188257 -1.2070547]\n",
      " [ 0.9909333 -1.2981311  1.4091825 -1.8178972]\n",
      " [-1.6740856  1.7448614  1.8945715  1.0385909]\n",
      " ...\n",
      " [ 1.1739665  1.7655907  1.4042888  1.2484208]\n",
      " [ 1.6524274 -1.9004048 -1.1561234 -1.0292758]\n",
      " [ 1.2520217  1.943484   1.0645634  1.9539323]]\n"
     ]
    }
   ],
   "source": [
    "predictions = model.predict(test_data)\n",
    "print(predictions)\n",
    "np.savetxt(\"predictions.txt\", predictions ,fmt='%f',delimiter=' ')\n"
   ]
  },
  {
   "cell_type": "code",
   "execution_count": null,
   "metadata": {},
   "outputs": [],
   "source": [
    "plt.plot(history.epoch, history.history.get('loss'))\n",
    "plt.plot(history.epoch, history.history.get('val_loss'))\n",
    "plt.pause(3)"
   ]
  },
  {
   "cell_type": "code",
   "execution_count": null,
   "metadata": {},
   "outputs": [],
   "source": [
    "plt.plot(history.epoch, history.history.get('acc_reg'))\n",
    "plt.plot(history.epoch, history.history.get('val_acc_reg'))\n",
    "plt.pause(3)"
   ]
  },
  {
   "cell_type": "code",
   "execution_count": null,
   "metadata": {
    "scrolled": false,
    "pycharm": {
     "name": "#%%\n"
    }
   },
   "outputs": [],
   "source": [
    "predictions = model.predict(test_data)\n",
    "test_step = min(1,test_loader.get_steps_per_epoch())\n",
    "for i in range(test_step): \n",
    "    print(predictions[i],'\\n',np.array(list(test_data)[i][1][0]))"
   ]
  }
 ],
 "metadata": {
  "kernelspec": {
   "display_name": "Python 3",
   "language": "python",
   "name": "python3"
  },
  "language_info": {
   "codemirror_mode": {
    "name": "ipython",
    "version": 3
   },
   "file_extension": ".py",
   "mimetype": "text/x-python",
   "name": "python",
   "nbconvert_exporter": "python",
   "pygments_lexer": "ipython3",
   "version": "3.8.3"
  }
 },
 "nbformat": 4,
 "nbformat_minor": 4
}